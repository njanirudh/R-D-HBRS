{
 "cells": [
  {
   "cell_type": "code",
   "execution_count": 7,
   "metadata": {},
   "outputs": [
    {
     "name": "stdout",
     "output_type": "stream",
     "text": [
      "/home/anaras2s/anirudh/Dataset/DoorDetect-Dataset/Model/ssd_mobilenet_v2_oid_v4_2018_12_12/anirudh_pipeline.config\n",
      "/home/anaras2s/anirudh/Models/SSD_V2_OID\n",
      "/home/anaras2s/anirudh/Github/Tensorflow/models/research/object_detection/model_main.py\n"
     ]
    }
   ],
   "source": [
    "PIPELINE_CONFIG_PATH = \"/home/anaras2s/anirudh/Dataset/DoorDetect-Dataset/Model/ssd_mobilenet_v2_oid_v4_2018_12_12/anirudh_pipeline.config\"\n",
    "MODEL_OUT_DIR=\"/home/anaras2s/anirudh/Models/SSD_V2_OID\"\n",
    "\n",
    "MODEL_MAIN_PATH = '/home/anaras2s/anirudh/Github/Tensorflow/models/research/object_detection/model_main.py'\n",
    "EVAL_MAIN_PATH = '/home/anaras2s/anirudh/Github/Tensorflow/models/research/object_detection/legacy/eval.py'\n",
    "\n",
    "EVAL = '/home/anaras2s/waste/eval'\n",
    "\n",
    "print(PIPELINE_CONFIG_PATH)\n",
    "print(MODEL_OUT_DIR)\n",
    "print(MODEL_MAIN_PATH)"
   ]
  },
  {
   "cell_type": "code",
   "execution_count": 8,
   "metadata": {},
   "outputs": [
    {
     "name": "stdout",
     "output_type": "stream",
     "text": [
      "python /home/anaras2s/anirudh/Github/Tensorflow/models/research/object_detection/legacy/eval.py --pipeline_config_path=/home/anaras2s/anirudh/Dataset/DoorDetect-Dataset/Model/ssd_mobilenet_v2_oid_v4_2018_12_12/anirudh_pipeline.config --checkpoint_dir=/home/anaras2s/anirudh/Models/SSD_V2_OID --eval_dir=/home/anaras2s/waste/eval --alsologtostderr\n"
     ]
    }
   ],
   "source": [
    "cmd = ['python',EVAL_MAIN_PATH,\n",
    "        '--pipeline_config_path='+PIPELINE_CONFIG_PATH,\n",
    "        '--checkpoint_dir='+MODEL_OUT_DIR,\n",
    "        '--eval_dir='+EVAL,\n",
    "        '--alsologtostderr']\n",
    "print(' '.join(cmd))"
   ]
  },
  {
   "cell_type": "code",
   "execution_count": 1,
   "metadata": {},
   "outputs": [
    {
     "name": "stdout",
     "output_type": "stream",
     "text": [
      "python /home/nj/HBRS/RnD/Github/Tensorflow/models/research/object_detection/legacy/eval.py --pipeline_config_path=/home/nj/HBRS/RnD/Dataset/DoorDetect-Dataset/Model/YOLO_door/anirudh_pipeline.config --checkpoint_dir=/home/nj/HBRS/RnD/Models/YOLO_TF_DOOR --eval_dir=/home/nj/HBRS/RnD/Models/YOLO_TF_DOOR/eval --alsologtostderr\n"
     ]
    }
   ],
   "source": [
    "PIPELINE_CONFIG_PATH = \"/home/nj/HBRS/RnD/Dataset/DoorDetect-Dataset/Model/YOLO_door/anirudh_pipeline.config\"\n",
    "MODEL_OUT_DIR=\"/home/nj/HBRS/RnD/Models/YOLO_TF_DOOR\"\n",
    "\n",
    "MODEL_MAIN_PATH = '/home/nj/HBRS/RnD/Github/Tensorflow/models/research/object_detection/model_main.py'\n",
    "EVAL_MAIN_PATH = '/home/nj/HBRS/RnD/Github/Tensorflow/models/research/object_detection/legacy/eval.py'\n",
    "\n",
    "EVAL = '/home/nj/HBRS/RnD/Models/YOLO_TF_DOOR/eval'\n",
    "\n",
    "cmd = ['python',EVAL_MAIN_PATH,\n",
    "        '--pipeline_config_path='+PIPELINE_CONFIG_PATH,\n",
    "        '--checkpoint_dir='+MODEL_OUT_DIR,\n",
    "        '--eval_dir='+EVAL,\n",
    "        '--alsologtostderr']\n",
    "print(' '.join(cmd))"
   ]
  },
  {
   "cell_type": "code",
   "execution_count": null,
   "metadata": {},
   "outputs": [],
   "source": []
  }
 ],
 "metadata": {
  "kernelspec": {
   "display_name": "Python 3",
   "language": "python",
   "name": "python3"
  },
  "language_info": {
   "codemirror_mode": {
    "name": "ipython",
    "version": 3
   },
   "file_extension": ".py",
   "mimetype": "text/x-python",
   "name": "python",
   "nbconvert_exporter": "python",
   "pygments_lexer": "ipython3",
   "version": "3.7.3"
  }
 },
 "nbformat": 4,
 "nbformat_minor": 4
}
