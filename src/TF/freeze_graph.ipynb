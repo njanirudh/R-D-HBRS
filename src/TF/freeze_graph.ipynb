{
 "cells": [
  {
   "cell_type": "code",
   "execution_count": 3,
   "metadata": {},
   "outputs": [],
   "source": [
    "# From tensorflow/models/research/\n",
    "INPUT_TYPE=\"image_tensor\"\n",
    "PIPELINE_CONFIG_PATH=\"/home/anaras2s/anirudh/Datasets/nuts_dataset/Model/faster_rcnn_inception_v2_coco_2018_01_28/anirudh_pipeline.config\"\n",
    "TRAINED_CKPT_PREFIX=\"/home/anaras2s/anirudh/Datasets/lucy_dataset_mixed/Trained/FRCNN_MIXED/model.ckpt-16155\"\n",
    "EXPORT_DIR=\"/home/anaras2s/anirudh/Datasets/lucy_dataset_mixed/Trained/FRCNN_MIXED\"\n",
    "\n",
    "TF_PATH=\"/home/anaras2s/anirudh/Tensorflow/models/research/object_detection\""
   ]
  },
  {
   "cell_type": "code",
   "execution_count": 4,
   "metadata": {},
   "outputs": [
    {
     "name": "stdout",
     "output_type": "stream",
     "text": [
      "python3 /home/anaras2s/anirudh/Tensorflow/models/research/object_detection/export_inference_graph.py --input_type=image_tensor --pipeline_config_path=/home/anaras2s/anirudh/Datasets/nuts_dataset/Model/faster_rcnn_inception_v2_coco_2018_01_28/anirudh_pipeline.config --trained_checkpoint_prefix=/home/anaras2s/anirudh/Datasets/nuts_dataset/Trained/FRCNN_TRAY/model.ckpt-30000 --output_directory=/home/anaras2s/anirudh/Datasets/nuts_dataset/Trained/FRCNN_TRAY\n"
     ]
    }
   ],
   "source": [
    "cmd = ['python3','/home/anaras2s/anirudh/Tensorflow/models/research/object_detection/export_inference_graph.py',\n",
    "        '--input_type='+INPUT_TYPE,\n",
    "        '--pipeline_config_path='+PIPELINE_CONFIG_PATH,\n",
    "        '--trained_checkpoint_prefix='+str(TRAINED_CKPT_PREFIX),\n",
    "        '--output_directory='+str(EXPORT_DIR)]\n",
    "print(' '.join(cmd))"
   ]
  },
  {
   "cell_type": "markdown",
   "metadata": {},
   "source": [
    "#### References :\n",
    "1. https://github.com/tensorflow/models/blob/master/research/object_detection/g3doc/exporting_models.md"
   ]
  },
  {
   "cell_type": "code",
   "execution_count": null,
   "metadata": {},
   "outputs": [],
   "source": []
  }
 ],
 "metadata": {
  "kernelspec": {
   "display_name": "Python 3",
   "language": "python",
   "name": "python3"
  },
  "language_info": {
   "codemirror_mode": {
    "name": "ipython",
    "version": 3
   },
   "file_extension": ".py",
   "mimetype": "text/x-python",
   "name": "python",
   "nbconvert_exporter": "python",
   "pygments_lexer": "ipython3",
   "version": "3.7.3"
  }
 },
 "nbformat": 4,
 "nbformat_minor": 4
}
