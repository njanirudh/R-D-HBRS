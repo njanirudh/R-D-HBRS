{
 "cells": [
  {
   "cell_type": "code",
   "execution_count": 19,
   "metadata": {},
   "outputs": [],
   "source": [
    "import matplotlib.pyplot as plt\n",
    "from pycocotools.coco import COCO\n",
    "from pycocotools.cocoeval import COCOeval\n",
    "import numpy as np\n",
    "import skimage.io as io\n",
    "import pylab\n",
    "\n",
    "import tensorflow as tf\n",
    "import xmltodict\n",
    "import glob\n",
    "import pprint\n",
    "import json"
   ]
  },
  {
   "cell_type": "code",
   "execution_count": 20,
   "metadata": {},
   "outputs": [],
   "source": [
    "def read_values_from_xml(path:str):\n",
    "    with open(path) as fd:\n",
    "        doc = xmltodict.parse(fd.read(), process_namespaces=True)\n",
    "    return doc"
   ]
  },
  {
   "cell_type": "code",
   "execution_count": 21,
   "metadata": {},
   "outputs": [],
   "source": [
    "def create_single_detection_dict(img_id : int,\n",
    "                                category_id : int,\n",
    "                                bbox : None ,\n",
    "                                score : float):\n",
    "    single_detection = {}\n",
    "    single_detection[\"image_id\"] = img_id\n",
    "    single_detection[\"category_id\"] = category_id\n",
    "    single_detection[\"bbox\"] = bbox\n",
    "    single_detection[\"score\"] = score\n",
    "    \n",
    "    return single_detection"
   ]
  },
  {
   "cell_type": "code",
   "execution_count": 22,
   "metadata": {},
   "outputs": [],
   "source": [
    "annotations = glob.glob('/home/nj/Desktop/RnD/Dataset/DoorDetect-Dataset/ds/Annotations/*.xml')"
   ]
  },
  {
   "cell_type": "code",
   "execution_count": 35,
   "metadata": {},
   "outputs": [],
   "source": [
    "for path in annotations :\n",
    "#     print(path)\n",
    "    objects = read_values_from_xml(path)[\"annotations\"][\"object\"]\n",
    "    \n",
    "#     print(read_values_from_xml(path)[\"annotations\"][\"object\"])\n",
    "    break"
   ]
  },
  {
   "cell_type": "code",
   "execution_count": null,
   "metadata": {},
   "outputs": [],
   "source": []
  }
 ],
 "metadata": {
  "kernelspec": {
   "display_name": "Python 3",
   "language": "python",
   "name": "python3"
  },
  "language_info": {
   "codemirror_mode": {
    "name": "ipython",
    "version": 3
   },
   "file_extension": ".py",
   "mimetype": "text/x-python",
   "name": "python",
   "nbconvert_exporter": "python",
   "pygments_lexer": "ipython3",
   "version": "3.7.3"
  }
 },
 "nbformat": 4,
 "nbformat_minor": 4
}
