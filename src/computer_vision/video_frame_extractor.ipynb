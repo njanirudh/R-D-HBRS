{
 "cells": [
  {
   "cell_type": "code",
   "execution_count": 10,
   "metadata": {},
   "outputs": [],
   "source": [
    "# Remove numpy warnings\n",
    "import warnings\n",
    "warnings.filterwarnings('ignore')\n",
    "\n",
    "import cv2\n",
    "import os\n",
    "\n",
    "import numpy as np\n",
    "import tensorflow as tf\n",
    "\n",
    "from matplotlib import pyplot as plt\n",
    "%matplotlib inline"
   ]
  },
  {
   "cell_type": "code",
   "execution_count": 14,
   "metadata": {},
   "outputs": [],
   "source": [
    "video_folder_path = '/home/nj/Desktop/CV/Dataset/Videos/CV19_video_18.avi'\n",
    "pb_path = '/home/nj/Desktop/CV/Dataset/frozen_inference_graph.pb'\n",
    "save_path = '/home/nj/Desktop/Result'"
   ]
  },
  {
   "cell_type": "code",
   "execution_count": 15,
   "metadata": {},
   "outputs": [],
   "source": [
    "def video_to_frames(video, path_output_dir):\n",
    "    # extract frames from a video and save to directory as 'x.png' where \n",
    "    # x is the frame index\n",
    "    vidcap = cv2.VideoCapture(video)\n",
    "    count = 0\n",
    "    while vidcap.isOpened():\n",
    "        success, image = vidcap.read()\n",
    "        if success:\n",
    "            if count % 10 == 0 :\n",
    "                cv2.imwrite(os.path.join(path_output_dir, '%d.png') % count, image)\n",
    "            count += 1\n",
    "        else:\n",
    "            break\n",
    "    cv2.destroyAllWindows()\n",
    "    vidcap.release()"
   ]
  },
  {
   "cell_type": "code",
   "execution_count": 16,
   "metadata": {},
   "outputs": [],
   "source": [
    "video_to_frames(video_path,save_path)"
   ]
  },
  {
   "cell_type": "code",
   "execution_count": null,
   "metadata": {},
   "outputs": [],
   "source": []
  }
 ],
 "metadata": {
  "kernelspec": {
   "display_name": "Python 3",
   "language": "python",
   "name": "python3"
  },
  "language_info": {
   "codemirror_mode": {
    "name": "ipython",
    "version": 3
   },
   "file_extension": ".py",
   "mimetype": "text/x-python",
   "name": "python",
   "nbconvert_exporter": "python",
   "pygments_lexer": "ipython3",
   "version": "3.7.3"
  }
 },
 "nbformat": 4,
 "nbformat_minor": 4
}
