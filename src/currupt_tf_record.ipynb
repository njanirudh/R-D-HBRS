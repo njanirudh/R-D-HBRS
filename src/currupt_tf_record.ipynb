{
 "cells": [
  {
   "cell_type": "code",
   "execution_count": 2,
   "metadata": {},
   "outputs": [
    {
     "name": "stdout",
     "output_type": "stream",
     "text": [
      "0\n",
      "2\n"
     ]
    }
   ],
   "source": [
    "import tensorflow as tf\n",
    "import glob\n",
    "\n",
    "total_images = 0\n",
    "train_files = sorted(glob.glob('/home/nj/Desktop/RnD/Dataset/DoorDetect-Dataset/tf_data.tfrecord'))\n",
    "for f_i, file in enumerate(train_files): \n",
    "    print(f_i) \n",
    "    total_images += sum([1 for _ in tf.python_io.tf_record_iterator(file)])\n",
    "\n",
    "print(total_images)"
   ]
  },
  {
   "cell_type": "code",
   "execution_count": 11,
   "metadata": {},
   "outputs": [
    {
     "name": "stdout",
     "output_type": "stream",
     "text": [
      "checking 1/1 /home/nj/Desktop/RnD/Dataset/DoorDetect-Dataset/tf_data.tfrecord\n",
      "removing /home/nj/Desktop/RnD/Dataset/DoorDetect-Dataset/tf_data.tfrecord\n"
     ]
    }
   ],
   "source": [
    "import tensorflow as tf\n",
    "import glob\n",
    "import os\n",
    "files =  glob.glob(\"/home/nj/Desktop/RnD/Dataset/DoorDetect-Dataset/tf_data.tfrecord\") \n",
    "\n",
    "filesSize = len(files)\n",
    "cnt = 0 \n",
    "\n",
    "for filename in files:\n",
    "    cnt = cnt + 1\n",
    "    print('checking %d/%d %s' % (cnt, filesSize, filename))\n",
    "    try:\n",
    "        for example in tf.python_io.tf_record_iterator(filename): \n",
    "\n",
    "            tf_example = tf.train.Example.FromString(example) \n",
    "\n",
    "    except :\n",
    "        print(\"removing %s\" % filename)\n",
    "        os.remove(filename)"
   ]
  },
  {
   "cell_type": "code",
   "execution_count": null,
   "metadata": {},
   "outputs": [],
   "source": []
  }
 ],
 "metadata": {
  "kernelspec": {
   "display_name": "Python 3",
   "language": "python",
   "name": "python3"
  },
  "language_info": {
   "codemirror_mode": {
    "name": "ipython",
    "version": 3
   },
   "file_extension": ".py",
   "mimetype": "text/x-python",
   "name": "python",
   "nbconvert_exporter": "python",
   "pygments_lexer": "ipython3",
   "version": "3.7.3"
  }
 },
 "nbformat": 4,
 "nbformat_minor": 4
}
