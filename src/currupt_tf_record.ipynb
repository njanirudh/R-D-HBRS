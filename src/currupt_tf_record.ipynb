{
 "cells": [
  {
   "cell_type": "raw",
   "metadata": {},
   "source": [
    "# TFRecord files might sometimes get correpted due to many reasons like bad image etc.\n",
    "# The utility function below can be used to check if a tfrecord file is corrept or not."
   ]
  },
  {
   "cell_type": "code",
   "execution_count": 3,
   "metadata": {},
   "outputs": [
    {
     "name": "stdout",
     "output_type": "stream",
     "text": [
      "WARNING:tensorflow:From <ipython-input-3-19aaddbbbf8e>:8: tf_record_iterator (from tensorflow.python.lib.io.tf_record) is deprecated and will be removed in a future version.\n",
      "Instructions for updating:\n",
      "Use eager execution and: \n",
      "`tf.data.TFRecordDataset(path)`\n",
      "TFRecord Number :  0  Total images found :  1172\n"
     ]
    }
   ],
   "source": [
    "import tensorflow as tf\n",
    "import glob\n",
    "\n",
    "# Path to folder containing tfrecord files\n",
    "train_files = sorted(glob.glob('/home/nj/Desktop/RnD/Dataset/DoorDetect-Dataset/tf_data.tfrecord'))\n",
    "for f_i, file in enumerate(train_files): \n",
    "    total_images = 0\n",
    "    total_images += sum([1 for _ in tf.python_io.tf_record_iterator(file)])\n",
    "    print(\"TFRecord Number : \",f_i,\" Total images found : \",total_images)"
   ]
  },
  {
   "cell_type": "markdown",
   "metadata": {},
   "source": [
    "### References :\n",
    "1. https://github.com/tensorflow/tensorflow/issues/13463\n",
    "2. https://stackoverflow.com/questions/42394585/how-to-inspect-a-tensorflow-tfrecord-file"
   ]
  }
 ],
 "metadata": {
  "kernelspec": {
   "display_name": "Python 3",
   "language": "python",
   "name": "python3"
  },
  "language_info": {
   "codemirror_mode": {
    "name": "ipython",
    "version": 3
   },
   "file_extension": ".py",
   "mimetype": "text/x-python",
   "name": "python",
   "nbconvert_exporter": "python",
   "pygments_lexer": "ipython3",
   "version": "3.7.3"
  }
 },
 "nbformat": 4,
 "nbformat_minor": 4
}
