{
 "cells": [
  {
   "cell_type": "raw",
   "metadata": {},
   "source": [
    "# Converting the .pb tensorflow model into an opencv compatible model.\n",
    "# 1. https://github.com/opencv/opencv/wiki/TensorFlow-Object-Detection-API"
   ]
  },
  {
   "cell_type": "raw",
   "metadata": {},
   "source": [
    "\"\"\"\n",
    "Step 1 : Download the required tensor flow model (*.pb) from \n",
    "https://github.com/tensorflow/models/blob/master/research/object_detection/g3doc/detection_model_zoo.md\n",
    "\n",
    "Step 2 : Download the following scripts in same folder (depending on the model)\n",
    "% https://github.com/opencv/opencv/blob/master/samples/dnn/tf_text_graph_ssd.py\n",
    "{tf_text_graph_ssd.py,tf_text_graph_faster_rcnn.py} \n",
    "% https://github.com/opencv/opencv/blob/master/samples/dnn/tf_text_graph_common.py\n",
    "\n",
    "Step 3 : Use the above scripts to convert to get *.pbtxt file\n",
    "python tf_text_graph_ssd.py --input /path/to/model.pb --config /path/to/example.config --output /path/to/graph.pbtxt\n",
    "\"\"\""
   ]
  },
  {
   "cell_type": "code",
   "execution_count": null,
   "metadata": {},
   "outputs": [],
   "source": [
    "import cv2 as cv"
   ]
  },
  {
   "cell_type": "code",
   "execution_count": null,
   "metadata": {},
   "outputs": [],
   "source": [
    "# Set the required paths to image and ’*.pb’ and ’*.pbtxt’\n",
    "img_path = '/home/jayasimha/Pictures/door_2.jpg'\n",
    "graph_path = \"/home/jayasimha/NJ/Models/ssd_mobilenet_v2_oid_v4_2018_12_12/frozen_inference_graph.pb\"\n",
    "pbtxt_path = \"/home/jayasimha/NJ/Models/ssd_mobilenet_v2_oid_v4_2018_12_12/graph.pbtxt\""
   ]
  },
  {
   "cell_type": "code",
   "execution_count": null,
   "metadata": {},
   "outputs": [],
   "source": [
    "cvNet = cv.dnn.readNetFromTensorflow(graph_path, pbtxt_path)\n",
    "\n",
    "img = cv.imread(img_path)\n",
    "\n",
    "rows = img.shape[0]\n",
    "cols = img.shape[1]\n",
    "cvNet.setInput(cv.dnn.blobFromImage(img, size=(300, 300), swapRB=True, crop=False))\n",
    "cvOut = cvNet.forward()\n",
    "\n",
    "for detection in cvOut[0,0,:,:]:\n",
    "    score = float(detection[2])\n",
    "    if score > 0.3:\n",
    "        left = detection[3] * cols\n",
    "        top = detection[4] * rows\n",
    "        right = detection[5] * cols\n",
    "        bottom = detection[6] * rows\n",
    "        cv.rectangle(img, (int(left), int(top)), (int(right), int(bottom)), (23, 230, 210), thickness=2)\n",
    "\n",
    "cv.imshow('img', img)\n",
    "cv.waitKey()"
   ]
  },
  {
   "cell_type": "code",
   "execution_count": null,
   "metadata": {},
   "outputs": [],
   "source": []
  }
 ],
 "metadata": {
  "kernelspec": {
   "display_name": "Python 3",
   "language": "python",
   "name": "python3"
  },
  "language_info": {
   "codemirror_mode": {
    "name": "ipython",
    "version": 3
   },
   "file_extension": ".py",
   "mimetype": "text/x-python",
   "name": "python",
   "nbconvert_exporter": "python",
   "pygments_lexer": "ipython3",
   "version": "3.6.8"
  }
 },
 "nbformat": 4,
 "nbformat_minor": 2
}
