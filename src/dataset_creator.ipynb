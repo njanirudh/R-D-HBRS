{
 "cells": [
  {
   "cell_type": "code",
   "execution_count": 1,
   "metadata": {},
   "outputs": [],
   "source": [
    "from google_images_download import google_images_download   "
   ]
  },
  {
   "cell_type": "code",
   "execution_count": 3,
   "metadata": {},
   "outputs": [
    {
     "name": "stdout",
     "output_type": "stream",
     "text": [
      "\n",
      "Item no.: 1 --> Item name = Door images house entrance\n",
      "Evaluating...\n",
      "Starting Download...\n",
      "Image URL: https://i.pinimg.com/236x/6e/cb/18/6ecb18c7e13f62bdf007e5ef6ea14ffc.jpg\n",
      "Completed Image ====> 1.6ecb18c7e13f62bdf007e5ef6ea14ffc.jpg\n",
      "Image URL: https://i.pinimg.com/originals/46/95/83/469583083cc52ec1e0a9bb7905a07f7c.jpg\n",
      "Completed Image ====> 2.469583083cc52ec1e0a9bb7905a07f7c.jpg\n",
      "Image URL: https://image.shutterstock.com/image-photo/contemporary-elegant-house-entrance-260nw-139044290.jpg\n",
      "Completed Image ====> 3.contemporary-elegant-house-entrance-260nw-139044290.jpg\n",
      "Image URL: https://c8.alamy.com/comp/RA2J5T/main-entrance-of-residential-house-with-door-steps-and-flower-pots-at-the-door-RA2J5T.jpg\n",
      "Completed Image ====> 4.main-entrance-of-residential-house-with-door-steps-and-flower-pots-at-the-door-RA2J5T.jpg\n",
      "Image URL: https://www.simpsondoor.com/door-idea-gallery/fullsize/contemporary-wood-front-door-7404.jpg\n",
      "Completed Image ====> 5.contemporary-wood-front-door-7404.jpg\n",
      "\n",
      "Errors: 0\n",
      "\n",
      "({'Door images house entrance': ['/home/nj/NJ/GitHub/Research-Development-HBRS/src/downloads/Door images house entrance/1.6ecb18c7e13f62bdf007e5ef6ea14ffc.jpg', '/home/nj/NJ/GitHub/Research-Development-HBRS/src/downloads/Door images house entrance/2.469583083cc52ec1e0a9bb7905a07f7c.jpg', '/home/nj/NJ/GitHub/Research-Development-HBRS/src/downloads/Door images house entrance/3.contemporary-elegant-house-entrance-260nw-139044290.jpg', '/home/nj/NJ/GitHub/Research-Development-HBRS/src/downloads/Door images house entrance/4.main-entrance-of-residential-house-with-door-steps-and-flower-pots-at-the-door-RA2J5T.jpg', '/home/nj/NJ/GitHub/Research-Development-HBRS/src/downloads/Door images house entrance/5.contemporary-wood-front-door-7404.jpg']}, 0)\n"
     ]
    }
   ],
   "source": [
    "response = google_images_download.googleimagesdownload()   \n",
    "\n",
    "arguments = {\"keywords\":\"Door images house entrance\",\"limit\":5,\"print_urls\":True}   \n",
    "paths = response.download(arguments)   \n",
    "print(paths)   "
   ]
  },
  {
   "cell_type": "code",
   "execution_count": null,
   "metadata": {},
   "outputs": [],
   "source": []
  }
 ],
 "metadata": {
  "kernelspec": {
   "display_name": "Python 3",
   "language": "python",
   "name": "python3"
  },
  "language_info": {
   "codemirror_mode": {
    "name": "ipython",
    "version": 3
   },
   "file_extension": ".py",
   "mimetype": "text/x-python",
   "name": "python",
   "nbconvert_exporter": "python",
   "pygments_lexer": "ipython3",
   "version": "3.7.3"
  }
 },
 "nbformat": 4,
 "nbformat_minor": 4
}
