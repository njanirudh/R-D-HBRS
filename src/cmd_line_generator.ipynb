{
 "cells": [
  {
   "cell_type": "code",
   "execution_count": 2,
   "metadata": {},
   "outputs": [],
   "source": [
    "PIPELINE_CONFIG_PATH = \"/home/anaras2s/anirudh/Dataset/DoorDetect-Dataset/Model/ssd_mobilenet_v1_ppn_shared_box_predictor_300x300_coco14_sync_2018_07_03/anirudh_pipeline.config\"\n",
    "MODEL_DIR=\"/home/anaras2s/anirudh/Models/SSD/\"\n",
    "NUM_TRAIN_STEPS=50000\n",
    "SAMPLE_1_OF_N_EVAL_EXAMPLES=1"
   ]
  },
  {
   "cell_type": "code",
   "execution_count": 3,
   "metadata": {},
   "outputs": [
    {
     "name": "stdout",
     "output_type": "stream",
     "text": [
      "python /home/anaras2s/anirudh/Github/Tensorflow/models/research/object_detection/model_main.py --pipeline_config_path=/home/anaras2s/anirudh/Dataset/DoorDetect-Dataset/Model/ssd_mobilenet_v1_ppn_shared_box_predictor_300x300_coco14_sync_2018_07_03/anirudh_pipeline.config --model_dir=/home/anaras2s/anirudh/Models/SSD/ --num_train_steps=50000 --sample_1_of_n_eval_examples=1 --alsologtostderr\n"
     ]
    }
   ],
   "source": [
    "cmd = ['python','/home/anaras2s/anirudh/Github/Tensorflow/models/research/object_detection/model_main.py',\n",
    "        '--pipeline_config_path='+PIPELINE_CONFIG_PATH,\n",
    "        '--model_dir='+MODEL_DIR,\n",
    "        '--num_train_steps='+str(NUM_TRAIN_STEPS),\n",
    "        '--sample_1_of_n_eval_examples='+str(SAMPLE_1_OF_N_EVAL_EXAMPLES),\n",
    "        '--alsologtostderr']\n",
    "print(' '.join(cmd))"
   ]
  },
  {
   "cell_type": "code",
   "execution_count": null,
   "metadata": {},
   "outputs": [],
   "source": []
  }
 ],
 "metadata": {
  "kernelspec": {
   "display_name": "Python 3",
   "language": "python",
   "name": "python3"
  },
  "language_info": {
   "codemirror_mode": {
    "name": "ipython",
    "version": 3
   },
   "file_extension": ".py",
   "mimetype": "text/x-python",
   "name": "python",
   "nbconvert_exporter": "python",
   "pygments_lexer": "ipython3",
   "version": "3.7.3"
  }
 },
 "nbformat": 4,
 "nbformat_minor": 4
}
