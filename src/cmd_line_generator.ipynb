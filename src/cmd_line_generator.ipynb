{
 "cells": [
  {
   "cell_type": "code",
   "execution_count": 1,
   "metadata": {},
   "outputs": [],
   "source": [
    "import os"
   ]
  },
  {
   "cell_type": "raw",
   "metadata": {},
   "source": [
    "protoc object_detection/protos/*.proto --python_out=. &&\n",
    "export PYTHONPATH=$PYTHONPATH:`pwd`:`pwd`/slim"
   ]
  },
  {
   "cell_type": "code",
   "execution_count": 2,
   "metadata": {},
   "outputs": [],
   "source": [
    "# MAIN_FOLDER = \"\"\n",
    "MAIN_FOLDER = \"/home/lucy/Desktop/anirudh/\"\n",
    "# MAIN_FOLDER = \"/home/anaras2s/anirudh\""
   ]
  },
  {
   "cell_type": "code",
   "execution_count": 6,
   "metadata": {},
   "outputs": [
    {
     "name": "stdout",
     "output_type": "stream",
     "text": [
      "/home/lucy/Desktop/anirudh/Dataset/DoorDetect-Dataset/Model/ssd_mobilenet_v2_oid_v4_2018_12_12/anirudh_pipeline.config\n",
      "/home/lucy/Desktop/anirudh/Models/SSD_Inception\n",
      "/Github/Tensorflow/models/research/object_detection/model_main.py\n"
     ]
    }
   ],
   "source": [
    "PIPELINE_CONFIG_PATH = os.path.join(MAIN_FOLDER,\"Dataset/DoorDetect-Dataset/Model/ssd_mobilenet_v2_oid_v4_2018_12_12/anirudh_pipeline.config\")\n",
    "MODEL_OUT_DIR=os.path.join(MAIN_FOLDER,\"Models/SSD_Inception\")\n",
    "NUM_TRAIN_STEPS=10000\n",
    "SAMPLE_1_OF_N_EVAL_EXAMPLES=10\n",
    "\n",
    "MODEL_MAIN_PATH = os.path.join(MAIN_FOLDER,'Github/Tensorflow/models/research/object_detection/model_main.py')\n",
    "\n",
    "print(PIPELINE_CONFIG_PATH)\n",
    "print(MODEL_DIR)\n",
    "print(MODEL_MAIN_PATH)"
   ]
  },
  {
   "cell_type": "code",
   "execution_count": null,
   "metadata": {},
   "outputs": [],
   "source": [
    "cmd = ['python',MODEL_MAIN_PATH,\n",
    "        '--pipeline_config_path='+PIPELINE_CONFIG_PATH,\n",
    "        '--model_dir='+MODEL_OUT_DIR,\n",
    "        '--num_train_steps='+str(NUM_TRAIN_STEPS),\n",
    "        '--sample_1_of_n_eval_examples='+str(SAMPLE_1_OF_N_EVAL_EXAMPLES),\n",
    "        '--alsologtostderr']\n",
    "print(' '.join(cmd))"
   ]
  },
  {
   "cell_type": "raw",
   "metadata": {},
   "source": [
    "export TMPDIR=/tmp/$USER; mkdir -p $TMPDIR; python -c \"import tempfile; print(tempfile.gettempdir())\" &&\n",
    "export TMPDIR=/tmp/$USER; mkdir -p $TMPDIR; tensorboard --logdir $LOGDIR"
   ]
  },
  {
   "cell_type": "code",
   "execution_count": null,
   "metadata": {},
   "outputs": [],
   "source": [
    "tensor_board_cmd = ['tensorboard','--logdir='+MODEL_DIR]\n",
    "print(' '.join(tensor_board_cmd))"
   ]
  },
  {
   "cell_type": "raw",
   "metadata": {},
   "source": [
    "ssh -L 16006:127.0.0.1:6006 anaras2s@wr0.wr.inf.h-brs.de"
   ]
  },
  {
   "cell_type": "markdown",
   "metadata": {},
   "source": [
    "#### References :\n",
    "1. https://stackoverflow.com/questions/37987839/how-can-i-run-tensorboard-on-a-remote-server\n",
    "2. https://github.com/tensorflow/tensorboard/issues/2010\n",
    "3. https://github.com/tensorflow/models/blob/master/research/object_detection/g3doc/installation.md\n",
    "4. https://linuxize.com/post/how-to-use-linux-screen/"
   ]
  },
  {
   "cell_type": "code",
   "execution_count": null,
   "metadata": {},
   "outputs": [],
   "source": []
  }
 ],
 "metadata": {
  "kernelspec": {
   "display_name": "Python 3",
   "language": "python",
   "name": "python3"
  },
  "language_info": {
   "codemirror_mode": {
    "name": "ipython",
    "version": 3
   },
   "file_extension": ".py",
   "mimetype": "text/x-python",
   "name": "python",
   "nbconvert_exporter": "python",
   "pygments_lexer": "ipython3",
   "version": "3.7.4"
  }
 },
 "nbformat": 4,
 "nbformat_minor": 4
}
