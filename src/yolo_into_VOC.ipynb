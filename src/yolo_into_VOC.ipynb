{
 "cells": [
  {
   "cell_type": "code",
   "execution_count": 67,
   "metadata": {},
   "outputs": [],
   "source": [
    "# Script to convert yolo annotations to voc format\n",
    "\n",
    "# Sample format\n",
    "# <annotation>\n",
    "#     <folder>_image_fashion</folder>\n",
    "#     <filename>brooke-cagle-39574.jpg</filename>\n",
    "#     <size>\n",
    "#         <width>1200</width>\n",
    "#         <height>800</height>\n",
    "#         <depth>3</depth>\n",
    "#     </size>\n",
    "#     <segmented>0</segmented>\n",
    "#     <object>\n",
    "#         <name>head</name>\n",
    "#         <pose>Unspecified</pose>\n",
    "#         <truncated>0</truncated>\n",
    "#         <difficult>0</difficult>\n",
    "#         <bndbox>\n",
    "#             <xmin>549</xmin>\n",
    "#             <ymin>251</ymin>\n",
    "#             <xmax>625</xmax>\n",
    "#             <ymax>335</ymax>\n",
    "#         </bndbox>\n",
    "#     </object>\n",
    "# <annotation>"
   ]
  },
  {
   "cell_type": "code",
   "execution_count": 68,
   "metadata": {},
   "outputs": [],
   "source": [
    "import os\n",
    "import xml.etree.cElementTree as ET\n",
    "from PIL import Image\n",
    "import glob\n",
    "from pathlib import Path"
   ]
  },
  {
   "cell_type": "code",
   "execution_count": 69,
   "metadata": {},
   "outputs": [],
   "source": [
    "ANNOTATIONS_DIR_PREFIX = \"/home/nj/Desktop/RnD/Dataset/DoorDetect-Dataset/ds/annotations\"\n",
    "\n",
    "DESTINATION_DIR = \"converted_labels\"\n",
    "\n",
    "CLASS_MAPPING = {\n",
    "                  \"0\":\"door\",\n",
    "                  \"1\":\"handle\",\n",
    "                  \"2\":\"cabinet door\",\n",
    "                  \"3\":\"refrigerator door\"\n",
    "                }"
   ]
  },
  {
   "cell_type": "code",
   "execution_count": 70,
   "metadata": {},
   "outputs": [],
   "source": [
    "def create_root(file_prefix, width, height):\n",
    "    root = ET.Element(\"annotations\")\n",
    "    ET.SubElement(root, \"filename\").text = \"{}.jpg\".format(file_prefix)\n",
    "    ET.SubElement(root, \"folder\").text = \"images\"\n",
    "    size = ET.SubElement(root, \"size\")\n",
    "    ET.SubElement(size, \"width\").text = str(width)\n",
    "    ET.SubElement(size, \"height\").text = str(height)\n",
    "    ET.SubElement(size, \"depth\").text = \"3\"\n",
    "    return root\n",
    "\n",
    "\n",
    "def create_object_annotation(root, voc_labels):\n",
    "    for voc_label in voc_labels:\n",
    "        obj = ET.SubElement(root, \"object\")\n",
    "        ET.SubElement(obj, \"name\").text = voc_label[0]\n",
    "        ET.SubElement(obj, \"pose\").text = \"Unspecified\"\n",
    "        ET.SubElement(obj, \"truncated\").text = str(0)\n",
    "        ET.SubElement(obj, \"difficult\").text = str(0)\n",
    "        bbox = ET.SubElement(obj, \"bndbox\")\n",
    "        ET.SubElement(bbox, \"xmin\").text = str(voc_label[1])\n",
    "        ET.SubElement(bbox, \"ymin\").text = str(voc_label[2])\n",
    "        ET.SubElement(bbox, \"xmax\").text = str(voc_label[3])\n",
    "        ET.SubElement(bbox, \"ymax\").text = str(voc_label[4])\n",
    "    return root\n",
    "\n",
    "\n",
    "def create_file(file_prefix, width, height, voc_labels):\n",
    "    root = create_root(file_prefix, width, height)\n",
    "    root = create_object_annotation(root, voc_labels)\n",
    "    tree = ET.ElementTree(root)\n",
    "    tree.write(\"{}/{}.xml\".format(DESTINATION_DIR, file_prefix))\n"
   ]
  },
  {
   "cell_type": "code",
   "execution_count": 71,
   "metadata": {},
   "outputs": [],
   "source": [
    "def read_file(file_path):\n",
    "    name = Path(file_path).stem\n",
    "    base_path = os.path.dirname(file_path)\n",
    "    img_path = os.path.join(base_path , name + \".jpg\")\n",
    "    annotation_path = os.path.join(base_path , name + \".txt\")\n",
    "\n",
    "    img = Image.open(img_path)\n",
    "    w, h = img.size\n",
    "    with open(annotation_path, 'r') as file:\n",
    "        lines = file.readlines()\n",
    "        voc_labels = []\n",
    "        for line in lines:\n",
    "            voc = []\n",
    "            line = line.strip()\n",
    "            data = line.split()\n",
    "            voc.append(CLASS_MAPPING.get(data[0]))\n",
    "            bbox_width = float(data[3]) * w\n",
    "            bbox_height = float(data[4]) * h\n",
    "            center_x = float(data[1]) * w\n",
    "            center_y = float(data[2]) * h\n",
    "            voc.append(center_x - (bbox_width / 2))\n",
    "            voc.append(center_y - (bbox_height / 2))\n",
    "            voc.append(center_x + (bbox_width / 2))\n",
    "            voc.append(center_y + (bbox_height / 2))\n",
    "            voc_labels.append(voc)\n",
    "        create_file(name, w, h, voc_labels)\n",
    "    print(\"Processing complete for file: {}\".format(file_path))"
   ]
  },
  {
   "cell_type": "code",
   "execution_count": 72,
   "metadata": {},
   "outputs": [],
   "source": [
    "def start():\n",
    "    if not os.path.exists(DESTINATION_DIR):\n",
    "        os.makedirs(DESTINATION_DIR)\n",
    "    \n",
    "    image_list = glob.glob(\"/home/nj/Desktop/RnD/Dataset/DoorDetect-Dataset/dataset/*.jpg\")\n",
    "    \n",
    "    for img in image_list:\n",
    "        read_file(img)\n"
   ]
  }
 ],
 "metadata": {
  "kernelspec": {
   "display_name": "Python 3",
   "language": "python",
   "name": "python3"
  },
  "language_info": {
   "codemirror_mode": {
    "name": "ipython",
    "version": 3
   },
   "file_extension": ".py",
   "mimetype": "text/x-python",
   "name": "python",
   "nbconvert_exporter": "python",
   "pygments_lexer": "ipython3",
   "version": "3.7.3"
  }
 },
 "nbformat": 4,
 "nbformat_minor": 4
}
