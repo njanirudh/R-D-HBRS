{
 "cells": [
  {
   "cell_type": "code",
   "execution_count": 1,
   "metadata": {},
   "outputs": [],
   "source": [
    "import os\n",
    "import argparse\n",
    "import io\n",
    "import glob\n",
    "import hashlib\n",
    "from pathlib import Path\n",
    "from PIL import Image\n",
    "import subprocess\n",
    "import cv2\n",
    "\n",
    "import tensorflow as tf\n",
    "from object_detection.utils import dataset_util\n"
   ]
  },
  {
   "cell_type": "code",
   "execution_count": 2,
   "metadata": {},
   "outputs": [],
   "source": [
    "DATASET_PATH = \"/home/nj/Desktop/RnD/Datasets/lucy_dataset_mixed/\"\n",
    "TF_FILE_PATH = \"/home/nj/Desktop/RnD/Datasets/lucy_dataset_mixed/lucy_dataset_mixed.tfrecord\""
   ]
  },
  {
   "cell_type": "code",
   "execution_count": 3,
   "metadata": {},
   "outputs": [],
   "source": [
    "# class_names = {17:\"door\",\n",
    "#               16:\"handle\",\n",
    "#               18:\"cabinet door\",\n",
    "#               15:\"refrigerator door\",\n",
    "#               1:\"handle\",\n",
    "#               2:\"cabinet door\",\n",
    "#               3:\"refrigerator door\",\n",
    "#               0:\"door\"}"
   ]
  },
  {
   "cell_type": "code",
   "execution_count": 4,
   "metadata": {},
   "outputs": [],
   "source": [
    "class_names = {\n",
    "                1:\"handle\",\n",
    "              15:\"handle\"\n",
    "            }"
   ]
  },
  {
   "cell_type": "code",
   "execution_count": 5,
   "metadata": {},
   "outputs": [],
   "source": [
    "def create_tf_example(img_path:str,\n",
    "                      annotation_path:str,\n",
    "                     class_names:dict):\n",
    "    \n",
    "    # ------------------------------------------------------------\n",
    "    # Read the image\n",
    "    with tf.gfile.GFile(img_path, 'rb') as fid:\n",
    "        encoded_img = fid.read()\n",
    "\n",
    "    encoded_img_io = io.BytesIO(encoded_img)\n",
    "    image = Image.open(encoded_img_io)\n",
    "    img_width, img_height = image.size\n",
    "    \n",
    "#     key = hashlib.sha256(encoded_img).hexdigest()\n",
    "    \n",
    "    fn = Path(img_path).stem\n",
    "    \n",
    "    # ------------------------------------------------------------\n",
    "    # Read the annotation and convert from YOLO into \n",
    "    # required tfrecord\n",
    "    x_1,y_1,x_2,y_2 = [],[],[],[]\n",
    "    classes_text, clss_list = [],[]\n",
    "    with open(annotation_path, 'r') as li:\n",
    "        annotations = li.readlines()\n",
    "        for i in annotations:\n",
    "#             print(list(map(float,i.strip().split(' '))))\n",
    "            label,x,y,w,h = list(map(float,i.strip().split(' ')))\n",
    "            x_1.append(float(x - (w / 2)))\n",
    "            y_1.append(float(y - (h / 2)))\n",
    "            x_2.append(float(x + (w / 2)))\n",
    "            y_2.append(float(y + (h / 2)))\n",
    "            clss_list.append(int(label)+1)\n",
    "            classes_text.append(class_names[int(label)].encode('utf8'))\n",
    "    \n",
    "    # --------------------------------------------------------------\n",
    "    # TODO(user): Populate the following variables from your example.\n",
    "    width,height  = image.size    # Image width , Image height\n",
    "    filename = fn.encode('utf8') # Filename of the image. Empty if image is not from file\n",
    "    encoded_image_data = encoded_img # Encoded image bytes\n",
    "    image_format = b'jpeg' # b'jpeg' or b'png'\n",
    "\n",
    "    xmins = x_1 # List of normalized left x coordinates in bounding box (1 per box)\n",
    "    ymins = y_1 # List of normalized top y coordinates in bounding box (1 per box)\n",
    "    xmaxs = x_2 # List of normalized right x coordinates in bounding box (1 per box)\n",
    "    ymaxs = y_2 # List of normalized bottom y coordinates in bounding box (1 per box)\n",
    "\n",
    "    #classes_text = [k.encode('utf8') for k in class_names.values()] # List of string class name of bounding box (1 per box)\n",
    "    classes = clss_list # List of integer class id of bounding box (1 per box)\n",
    "\n",
    "    tf_example = tf.train.Example(features=tf.train.Features(feature={\n",
    "        'image/height': dataset_util.int64_feature(height),\n",
    "        'image/width': dataset_util.int64_feature(width),\n",
    "        'image/filename': dataset_util.bytes_feature(filename),\n",
    "        'image/source_id': dataset_util.bytes_feature(filename),\n",
    "        'image/encoded': dataset_util.bytes_feature(encoded_image_data),\n",
    "        'image/format': dataset_util.bytes_feature(image_format),\n",
    "        'image/object/bbox/xmin': dataset_util.float_list_feature(xmins),\n",
    "        'image/object/bbox/xmax': dataset_util.float_list_feature(xmaxs),\n",
    "        'image/object/bbox/ymin': dataset_util.float_list_feature(ymins),\n",
    "        'image/object/bbox/ymax': dataset_util.float_list_feature(ymaxs),\n",
    "        'image/object/class/text': dataset_util.bytes_list_feature(classes_text),\n",
    "        'image/object/class/label': dataset_util.int64_list_feature(classes),\n",
    "      }))\n",
    "    \n",
    "    return tf_example"
   ]
  },
  {
   "cell_type": "code",
   "execution_count": 6,
   "metadata": {},
   "outputs": [
    {
     "name": "stdout",
     "output_type": "stream",
     "text": [
      "/home/nj/Desktop/RnD/Datasets/lucy_dataset_mixed/images/59888fd0-4177-48f6-b4aa-830aaece2cec.jpg\n"
     ]
    },
    {
     "ename": "KeyError",
     "evalue": "16",
     "output_type": "error",
     "traceback": [
      "\u001b[0;31m---------------------------------------------------------------------------\u001b[0m",
      "\u001b[0;31mKeyError\u001b[0m                                  Traceback (most recent call last)",
      "\u001b[0;32m<ipython-input-6-3920a3769db2>\u001b[0m in \u001b[0;36m<module>\u001b[0;34m\u001b[0m\n\u001b[1;32m     13\u001b[0m     \u001b[0mprint\u001b[0m\u001b[0;34m(\u001b[0m\u001b[0mimg_path\u001b[0m\u001b[0;34m)\u001b[0m\u001b[0;34m\u001b[0m\u001b[0;34m\u001b[0m\u001b[0m\n\u001b[1;32m     14\u001b[0m \u001b[0;34m\u001b[0m\u001b[0m\n\u001b[0;32m---> 15\u001b[0;31m     \u001b[0mtf_record\u001b[0m \u001b[0;34m=\u001b[0m \u001b[0mcreate_tf_example\u001b[0m\u001b[0;34m(\u001b[0m\u001b[0mimg_path\u001b[0m\u001b[0;34m,\u001b[0m\u001b[0mannotation_path\u001b[0m\u001b[0;34m,\u001b[0m\u001b[0mclass_names\u001b[0m\u001b[0;34m)\u001b[0m\u001b[0;34m\u001b[0m\u001b[0;34m\u001b[0m\u001b[0m\n\u001b[0m\u001b[1;32m     16\u001b[0m     \u001b[0mwriter\u001b[0m\u001b[0;34m.\u001b[0m\u001b[0mwrite\u001b[0m\u001b[0;34m(\u001b[0m\u001b[0mtf_record\u001b[0m\u001b[0;34m.\u001b[0m\u001b[0mSerializeToString\u001b[0m\u001b[0;34m(\u001b[0m\u001b[0;34m)\u001b[0m\u001b[0;34m)\u001b[0m\u001b[0;34m\u001b[0m\u001b[0;34m\u001b[0m\u001b[0m\n\u001b[1;32m     17\u001b[0m \u001b[0;34m\u001b[0m\u001b[0m\n",
      "\u001b[0;32m<ipython-input-5-f7b10ad17030>\u001b[0m in \u001b[0;36mcreate_tf_example\u001b[0;34m(img_path, annotation_path, class_names)\u001b[0m\n\u001b[1;32m     31\u001b[0m             \u001b[0my_2\u001b[0m\u001b[0;34m.\u001b[0m\u001b[0mappend\u001b[0m\u001b[0;34m(\u001b[0m\u001b[0mfloat\u001b[0m\u001b[0;34m(\u001b[0m\u001b[0my\u001b[0m \u001b[0;34m+\u001b[0m \u001b[0;34m(\u001b[0m\u001b[0mh\u001b[0m \u001b[0;34m/\u001b[0m \u001b[0;36m2\u001b[0m\u001b[0;34m)\u001b[0m\u001b[0;34m)\u001b[0m\u001b[0;34m)\u001b[0m\u001b[0;34m\u001b[0m\u001b[0;34m\u001b[0m\u001b[0m\n\u001b[1;32m     32\u001b[0m             \u001b[0mclss_list\u001b[0m\u001b[0;34m.\u001b[0m\u001b[0mappend\u001b[0m\u001b[0;34m(\u001b[0m\u001b[0mint\u001b[0m\u001b[0;34m(\u001b[0m\u001b[0mlabel\u001b[0m\u001b[0;34m)\u001b[0m\u001b[0;34m+\u001b[0m\u001b[0;36m1\u001b[0m\u001b[0;34m)\u001b[0m\u001b[0;34m\u001b[0m\u001b[0;34m\u001b[0m\u001b[0m\n\u001b[0;32m---> 33\u001b[0;31m             \u001b[0mclasses_text\u001b[0m\u001b[0;34m.\u001b[0m\u001b[0mappend\u001b[0m\u001b[0;34m(\u001b[0m\u001b[0mclass_names\u001b[0m\u001b[0;34m[\u001b[0m\u001b[0mint\u001b[0m\u001b[0;34m(\u001b[0m\u001b[0mlabel\u001b[0m\u001b[0;34m)\u001b[0m\u001b[0;34m]\u001b[0m\u001b[0;34m.\u001b[0m\u001b[0mencode\u001b[0m\u001b[0;34m(\u001b[0m\u001b[0;34m'utf8'\u001b[0m\u001b[0;34m)\u001b[0m\u001b[0;34m)\u001b[0m\u001b[0;34m\u001b[0m\u001b[0;34m\u001b[0m\u001b[0m\n\u001b[0m\u001b[1;32m     34\u001b[0m \u001b[0;34m\u001b[0m\u001b[0m\n\u001b[1;32m     35\u001b[0m     \u001b[0;31m# --------------------------------------------------------------\u001b[0m\u001b[0;34m\u001b[0m\u001b[0;34m\u001b[0m\u001b[0;34m\u001b[0m\u001b[0m\n",
      "\u001b[0;31mKeyError\u001b[0m: 16"
     ]
    }
   ],
   "source": [
    "writer =  tf.io.TFRecordWriter(TF_FILE_PATH)\n",
    "\n",
    "IMG_PATH = os.path.join(DATASET_PATH,\"images\")\n",
    "ANNOTATION_PATH = os.path.join(DATASET_PATH,\"annotations/yolo\")\n",
    "\n",
    "img_file_list = glob.glob(os.path.join(IMG_PATH,\"*.jpg\"), recursive=True)\n",
    "for i,img in enumerate(img_file_list) :\n",
    "    name = Path(img).stem\n",
    "\n",
    "    img_path = os.path.join(IMG_PATH , name + \".jpg\")\n",
    "    annotation_path = os.path.join(ANNOTATION_PATH ,name  + \".txt\")\n",
    "    \n",
    "    print(img_path)\n",
    "    \n",
    "    tf_record = create_tf_example(img_path,annotation_path,class_names)\n",
    "    writer.write(tf_record.SerializeToString())\n",
    "    \n",
    "    print(i,\" \",name,\" written to tf record.\")\n",
    "\n",
    "writer.close()"
   ]
  },
  {
   "cell_type": "markdown",
   "metadata": {},
   "source": [
    "#### References :\n",
    "1. https://github.com/datitran/raccoon_dataset"
   ]
  }
 ],
 "metadata": {
  "kernelspec": {
   "display_name": "Python 3",
   "language": "python",
   "name": "python3"
  },
  "language_info": {
   "codemirror_mode": {
    "name": "ipython",
    "version": 3
   },
   "file_extension": ".py",
   "mimetype": "text/x-python",
   "name": "python",
   "nbconvert_exporter": "python",
   "pygments_lexer": "ipython3",
   "version": "3.7.3"
  }
 },
 "nbformat": 4,
 "nbformat_minor": 4
}
