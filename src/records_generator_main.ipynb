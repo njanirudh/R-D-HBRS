{
 "cells": [
  {
   "cell_type": "code",
   "execution_count": 8,
   "metadata": {},
   "outputs": [],
   "source": [
    "import os\n",
    "import argparse\n",
    "import io\n",
    "import glob\n",
    "import hashlib\n",
    "from pathlib import Path\n",
    "from PIL import Image\n",
    "import subprocess\n",
    "import cv2\n",
    "\n",
    "import tensorflow as tf\n",
    "from object_detection.utils import dataset_util\n"
   ]
  },
  {
   "cell_type": "code",
   "execution_count": 9,
   "metadata": {},
   "outputs": [],
   "source": [
    "DATASET_PATH = \"/home/nj/HBRS/RnD/Dataset/DoorDetect-Dataset/dataset\"\n",
    "TF_FILE_PATH = \"/home/nj/HBRS/RnD/Dataset/DoorDetect-Dataset/tf_data_new.tfrecord\""
   ]
  },
  {
   "cell_type": "code",
   "execution_count": 10,
   "metadata": {},
   "outputs": [],
   "source": [
    "class_names = {0:\"door\",\n",
    "              1:\"handle\",\n",
    "              2:\"cabinet door\",\n",
    "              3:\"refrigerator door\"}"
   ]
  },
  {
   "cell_type": "code",
   "execution_count": 21,
   "metadata": {},
   "outputs": [],
   "source": [
    "def create_tf_example(img_path:str,\n",
    "                      annotation_path:str,\n",
    "                     class_names:dict):\n",
    "    \n",
    "    # ------------------------------------------------------------\n",
    "    # Read the image\n",
    "    with tf.gfile.GFile(img_path, 'rb') as fid:\n",
    "        encoded_img = fid.read()\n",
    "\n",
    "    encoded_img_io = io.BytesIO(encoded_img)\n",
    "    image = Image.open(encoded_img_io)\n",
    "    img_width, img_height = image.size\n",
    "    \n",
    "    key = hashlib.sha256(encoded_img).hexdigest()\n",
    "    \n",
    "    fn = Path(img_path).stem\n",
    "    \n",
    "    # ------------------------------------------------------------\n",
    "    # Read the annotation\n",
    "    x_1,y_1,x_2,y_2 = [],[],[],[]\n",
    "    clss_list = []\n",
    "    with open(annotation_path, 'r') as li:\n",
    "        annotations = li.readlines()\n",
    "        for i in annotations:\n",
    "#             print(list(map(float,i.strip().split(' '))))\n",
    "            label,x,y,w,h = list(map(float,i.strip().split(' ')))\n",
    "            x_1.append(float(x - (w / 2)))\n",
    "            y_1.append(float(y - (h / 2)))\n",
    "            x_2.append(float(x + (w / 2)))\n",
    "            y_2.append(float(y + (h / 2)))\n",
    "            clss_list.append(int(label))\n",
    "    \n",
    "    # --------------------------------------------------------------\n",
    "    # TODO(user): Populate the following variables from your example.\n",
    "    width,height  = image.size    # Image width , Image height\n",
    "    filename = fn.encode('utf8') # Filename of the image. Empty if image is not from file\n",
    "    encoded_image_data = encoded_img # Encoded image bytes\n",
    "    image_format = b'jpeg' # b'jpeg' or b'png'\n",
    "\n",
    "    xmins = x_1 # List of normalized left x coordinates in bounding box (1 per box)\n",
    "    ymins = y_1 # List of normalized top y coordinates in bounding box (1 per box)\n",
    "    xmaxs = x_2 # List of normalized right x coordinates in bounding box (1 per box)\n",
    "    ymaxs = y_2 # List of normalized bottom y coordinates in bounding box (1 per box)\n",
    "\n",
    "    classes_text = [k.encode('utf8') for k in class_names.values()] # List of string class name of bounding box (1 per box)\n",
    "    classes = clss_list # List of integer class id of bounding box (1 per box)\n",
    "\n",
    "    tf_example = tf.train.Example(features=tf.train.Features(feature={\n",
    "        'image/height': dataset_util.int64_feature(height),\n",
    "        'image/width': dataset_util.int64_feature(width),\n",
    "        'image/filename': dataset_util.bytes_feature(filename),\n",
    "        'image/source_id': dataset_util.bytes_feature(filename),\n",
    "        'image/encoded': dataset_util.bytes_feature(encoded_image_data),\n",
    "        'image/format': dataset_util.bytes_feature(image_format),\n",
    "        'image/object/bbox/xmin': dataset_util.float_list_feature(xmins),\n",
    "        'image/object/bbox/xmax': dataset_util.float_list_feature(xmaxs),\n",
    "        'image/object/bbox/ymin': dataset_util.float_list_feature(ymins),\n",
    "        'image/object/bbox/ymax': dataset_util.float_list_feature(ymaxs),\n",
    "        'image/object/class/text': dataset_util.bytes_list_feature(classes_text),\n",
    "        'image/object/class/label': dataset_util.int64_list_feature(classes),\n",
    "      }))\n",
    "    \n",
    "    return tf_example"
   ]
  },
  {
   "cell_type": "code",
   "execution_count": 22,
   "metadata": {},
   "outputs": [
    {
     "name": "stdout",
     "output_type": "stream",
     "text": [
      "/home/nj/HBRS/RnD/Dataset/DoorDetect-Dataset/dataset/0e3381d79d5b1ea1.jpg\n",
      "(1024, 687)\n",
      "[2.0, 0.25, 0.366667, 0.06875, 0.269444]\n",
      "[2.0, 0.313672, 0.368056, 0.058594, 0.261111]\n",
      "[2.0, 0.256641, 0.5625, 0.061719, 0.1]\n",
      "[2.0, 0.316797, 0.553472, 0.064844, 0.093056]\n",
      "[2.0, 0.289062, 0.896528, 0.034375, 0.206944]\n",
      "[2.0, 0.340234, 0.910417, 0.042969, 0.176389]\n",
      "[2.0, 0.389453, 0.940278, 0.041406, 0.119444]\n",
      "[2.0, 0.445312, 0.952083, 0.0625, 0.095833]\n",
      "[2.0, 0.464063, 0.365972, 0.035937, 0.168056]\n",
      "[2.0, 0.509375, 0.368056, 0.042188, 0.155556]\n",
      "[2.0, 0.546484, 0.370139, 0.044531, 0.151389]\n",
      "[2.0, 0.585156, 0.376389, 0.042188, 0.155556]\n",
      "[2.0, 0.168359, 0.646528, 0.082031, 0.031944]\n",
      "[2.0, 0.175, 0.695833, 0.08125, 0.044444]\n",
      "[2.0, 0.171875, 0.752083, 0.090625, 0.040278]\n",
      "[2.0, 0.173047, 0.360417, 0.052344, 0.201389]\n",
      "[2.0, 0.114453, 0.351389, 0.050781, 0.205556]\n",
      "[2.0, 0.050391, 0.333333, 0.057031, 0.233333]\n",
      "[1.0, 0.01875, 0.415972, 0.0125, 0.068056]\n",
      "[2.0, 0.613672, 0.60625, 0.027344, 0.059722]\n",
      "[2.0, 0.571094, 0.604167, 0.0375, 0.036111]\n"
     ]
    }
   ],
   "source": [
    "writer =  tf.io.TFRecordWriter(TF_FILE_PATH)\n",
    "\n",
    "img_file_list = glob.glob(os.path.join(DATASET_PATH,\"*.jpg\"), recursive=True)\n",
    "\n",
    "for i,img in enumerate(img_file_list) :\n",
    "    name = Path(img).stem\n",
    "\n",
    "    img_path = os.path.join(DATASET_PATH , name + \".jpg\")\n",
    "    annotation_path = os.path.join(DATASET_PATH ,name  + \".txt\")\n",
    "    \n",
    "    print(img_path)\n",
    "    \n",
    "    tf_record = create_tf_example(img_path,annotation_path,class_names)\n",
    "    writer.write(tf_record.SerializeToString())\n",
    "    \n",
    "    print(i,\" \",name,\" written to tf record.\")"
   ]
  },
  {
   "cell_type": "code",
   "execution_count": null,
   "metadata": {},
   "outputs": [],
   "source": []
  },
  {
   "cell_type": "code",
   "execution_count": null,
   "metadata": {},
   "outputs": [],
   "source": []
  }
 ],
 "metadata": {
  "kernelspec": {
   "display_name": "Python 3",
   "language": "python",
   "name": "python3"
  },
  "language_info": {
   "codemirror_mode": {
    "name": "ipython",
    "version": 3
   },
   "file_extension": ".py",
   "mimetype": "text/x-python",
   "name": "python",
   "nbconvert_exporter": "python",
   "pygments_lexer": "ipython3",
   "version": "3.7.3"
  }
 },
 "nbformat": 4,
 "nbformat_minor": 4
}
