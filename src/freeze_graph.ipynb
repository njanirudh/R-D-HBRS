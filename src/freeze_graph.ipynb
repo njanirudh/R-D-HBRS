{
 "cells": [
  {
   "cell_type": "code",
   "execution_count": 1,
   "metadata": {},
   "outputs": [],
   "source": [
    "# From tensorflow/models/research/\n",
    "INPUT_TYPE=\"image_tensor\"\n",
    "PIPELINE_CONFIG_PATH=\"/home/nj/NJ/Models/ssd_mobilenet_v1_ppn_shared_box_predictor_300x300_coco14_sync_2018_07_03/pipeline.config\"\n",
    "TRAINED_CKPT_PREFIX=\"/home/nj/NJ/Models/my_trained_model/model.ckpt\"\n",
    "EXPORT_DIR=\"/home/nj/NJ/Models/my_trained_model/Test\"\n",
    "\n",
    "TF_PATH=\"/home/nj/Desktop/RnD/Github/Tensorflow/models/research/object_detection\""
   ]
  },
  {
   "cell_type": "code",
   "execution_count": 2,
   "metadata": {},
   "outputs": [
    {
     "name": "stdout",
     "output_type": "stream",
     "text": [
      "python /home/nj/Desktop/RnD/Github/Tensorflow/models/research/object_detection/export_inference_graph.py --input_type=image_tensor --pipeline_config_path=/home/nj/NJ/Models/ssd_mobilenet_v1_ppn_shared_box_predictor_300x300_coco14_sync_2018_07_03/pipeline.config --trained_checkpoint_prefix=/home/nj/NJ/Models/my_trained_model/model.ckpt --output_directory=/home/nj/NJ/Models/my_trained_model/Test\n"
     ]
    }
   ],
   "source": [
    "cmd = ['python','/home/nj/Desktop/RnD/Github/Tensorflow/models/research/object_detection/export_inference_graph.py',\n",
    "        '--input_type='+INPUT_TYPE,\n",
    "        '--pipeline_config_path='+PIPELINE_CONFIG_PATH,\n",
    "        '--trained_checkpoint_prefix='+str(TRAINED_CKPT_PREFIX),\n",
    "        '--output_directory='+str(EXPORT_DIR)]\n",
    "print(' '.join(cmd))"
   ]
  },
  {
   "cell_type": "markdown",
   "metadata": {},
   "source": [
    "#### References :\n",
    "1. https://github.com/tensorflow/models/blob/master/research/object_detection/g3doc/exporting_models.md"
   ]
  },
  {
   "cell_type": "code",
   "execution_count": null,
   "metadata": {},
   "outputs": [],
   "source": []
  }
 ],
 "metadata": {
  "kernelspec": {
   "display_name": "Python 3",
   "language": "python",
   "name": "python3"
  },
  "language_info": {
   "codemirror_mode": {
    "name": "ipython",
    "version": 3
   },
   "file_extension": ".py",
   "mimetype": "text/x-python",
   "name": "python",
   "nbconvert_exporter": "python",
   "pygments_lexer": "ipython3",
   "version": "3.7.4"
  }
 },
 "nbformat": 4,
 "nbformat_minor": 4
}
